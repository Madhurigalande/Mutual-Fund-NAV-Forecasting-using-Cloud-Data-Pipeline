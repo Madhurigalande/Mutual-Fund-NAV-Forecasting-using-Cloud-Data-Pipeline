{
 "cells": [
  {
   "cell_type": "code",
   "execution_count": 0,
   "metadata": {
    "application/vnd.databricks.v1+cell": {
     "cellMetadata": {
      "byteLimit": 2048000,
      "rowLimit": 10000
     },
     "inputWidgets": {},
     "nuid": "c805d39e-ac92-4715-9667-5e74a8417c01",
     "showTitle": false,
     "tableResultSettingsMap": {},
     "title": ""
    }
   },
   "outputs": [
    {
     "output_type": "stream",
     "name": "stdout",
     "output_type": "stream",
     "text": [
      "/mnt/mf-production has been unmounted.\n"
     ]
    }
   ],
   "source": [
    "try:\n",
    "    dbutils.fs.unmount(\"/mnt/mf-production\")\n",
    "except Exception as e:\n",
    "    pass  "
   ]
  },
  {
   "cell_type": "code",
   "execution_count": 0,
   "metadata": {
    "application/vnd.databricks.v1+cell": {
     "cellMetadata": {
      "byteLimit": 2048000,
      "rowLimit": 10000
     },
     "inputWidgets": {},
     "nuid": "94bc5387-7a00-4c1b-91fb-c9048d072db9",
     "showTitle": false,
     "tableResultSettingsMap": {},
     "title": ""
    }
   },
   "outputs": [],
   "source": [
    "dbutils.fs.mount(\n",
    "    source = \"wasbs://mf-production@mutualfundstoragecdac.blob.core.windows.net\",\n",
    "    mount_point = \"/mnt/mf-production\",\n",
    "    extra_configs={\n",
    "        \"fs.azure.sas.mf-production.mutualfundstoragecdac.blob.core.windows.net\": dbutils.secrets.get(scope=\"mutual-fund-keyvalut-secrets\", key=\"storage-sas-prod-sas\")\n",
    "    })\n",
    "\n",
    "daily_path = \"/mnt/mf-production/daily_extracts\"\n"
   ]
  },
  {
   "cell_type": "code",
   "execution_count": 0,
   "metadata": {
    "application/vnd.databricks.v1+cell": {
     "cellMetadata": {
      "byteLimit": 2048000,
      "rowLimit": 10000
     },
     "inputWidgets": {},
     "nuid": "5e28ff20-3bd0-494c-b7ca-1067986afc86",
     "showTitle": false,
     "tableResultSettingsMap": {},
     "title": ""
    }
   },
   "outputs": [
    {
     "output_type": "stream",
     "name": "stdout",
     "output_type": "stream",
     "text": [
      "Found 17 files at /mnt/mf-production/daily_extracts/2025/07/26\nSpark DataFrame created and transformed successfully.\n"
     ]
    }
   ],
   "source": [
    "from datetime import datetime\n",
    "import pytz\n",
    "import pyarrow.parquet as pq\n",
    "import pandas as pd\n",
    "from pyspark.sql.functions import col\n",
    "from pyspark.sql.types import DecimalType\n",
    "\n",
    "today = datetime.now(pytz.timezone(\"Asia/Kolkata\"))\n",
    "today_path = f\"{daily_path}/{today.year:04d}/{today.month:02d}/{today.day:02d}\"\n",
    "\n",
    "pandas_frames = []\n",
    "\n",
    "try:\n",
    "    files = dbutils.fs.ls(today_path)\n",
    "    if not files:\n",
    "        print(f\"No files found at {today_path}\")\n",
    "        files = []\n",
    "    else:\n",
    "        print(f\"Found {len(files)} files at {today_path}\")\n",
    "        \n",
    "except Exception as e:\n",
    "    print(f\"Path not found or inaccessible: {str(e)}\")\n",
    "    files = []\n",
    "\n",
    "if files:\n",
    "    try:\n",
    "        for file in files:\n",
    "            local_path = file.path.replace(\"dbfs:/\", \"/dbfs/\")\n",
    "            table = pq.read_table(local_path)\n",
    "            pandas_frames.append(table.to_pandas())\n",
    "\n",
    "        full_df = pd.concat(pandas_frames, ignore_index=True)\n",
    "\n",
    "        if 'insert_date' in full_df.columns:\n",
    "            full_df['insert_date'] = pd.to_datetime(full_df['insert_date'], unit='ns')\n",
    "\n",
    "        spark_df = spark.createDataFrame(full_df)\n",
    "        spark_df = spark_df.withColumn(\"nav\", col(\"nav\").cast(DecimalType(18, 6)))\n",
    "\n",
    "        print(\"Spark DataFrame created and transformed successfully.\")\n",
    "\n",
    "    except Exception as e:\n",
    "        print(f\"Error during file processing or DataFrame transformation: {str(e)}\")\n"
   ]
  },
  {
   "cell_type": "code",
   "execution_count": 0,
   "metadata": {
    "application/vnd.databricks.v1+cell": {
     "cellMetadata": {
      "byteLimit": 2048000,
      "rowLimit": 10000
     },
     "inputWidgets": {},
     "nuid": "0fd4ddec-2404-4e6a-8db7-6d55c4fb85c4",
     "showTitle": false,
     "tableResultSettingsMap": {},
     "title": ""
    }
   },
   "outputs": [],
   "source": [
    "try:\n",
    "    connection_properties = {\n",
    "        \"user\": 'cdac',\n",
    "        \"password\": dbutils.secrets.get(scope=\"mutual-fund-keyvalut-secrets\", key=\"storage-database-secret\"),\n",
    "        \"driver\": \"com.microsoft.sqlserver.jdbc.SQLServerDriver\"\n",
    "    }\n",
    "\n",
    "    spark_df.write \\\n",
    "        .mode(\"append\") \\\n",
    "        .jdbc(url=dbutils.secrets.get(scope=\"mutual-fund-keyvalut-secrets\", key=\"storage-database-jdbc\"), table='ActiveMutualFundsNavs', properties=connection_properties)\n",
    "\n",
    "except Exception as e:\n",
    "    print(f\"Error writing to SQL Server: {str(e)}\")"
   ]
  },
  {
   "cell_type": "code",
   "execution_count": 0,
   "metadata": {
    "application/vnd.databricks.v1+cell": {
     "cellMetadata": {
      "byteLimit": 2048000,
      "rowLimit": 10000
     },
     "inputWidgets": {},
     "nuid": "19e22bad-e3ad-4c51-aba5-951c11017ba6",
     "showTitle": false,
     "tableResultSettingsMap": {},
     "title": ""
    }
   },
   "outputs": [],
   "source": [
    "try:\n",
    "    connection_properties = {\n",
    "        \"user\": 'cdac',\n",
    "        \"password\": dbutils.secrets.get(scope=\"mutual-fund-keyvalut-secrets\", key=\"storage-database-secret\"),\n",
    "        \"driver\": \"com.microsoft.sqlserver.jdbc.SQLServerDriver\"\n",
    "    }\n",
    "\n",
    "    spark_df.write \\\n",
    "        .mode(\"append\") \\\n",
    "        .jdbc(url=dbutils.secrets.get(scope=\"mutual-fund-keyvalut-secrets\", key=\"storage-database-jdbc\"), table='Prod.ActiveMutualFundsNavs', properties=connection_properties)\n",
    "\n",
    "except Exception as e:\n",
    "    print(f\"Error writing to SQL Server: {str(e)}\")"
   ]
  },
  {
   "cell_type": "code",
   "execution_count": 0,
   "metadata": {
    "application/vnd.databricks.v1+cell": {
     "cellMetadata": {
      "byteLimit": 2048000,
      "rowLimit": 10000
     },
     "inputWidgets": {},
     "nuid": "da9a2f32-af73-464e-adee-74d100ff2dc7",
     "showTitle": false,
     "tableResultSettingsMap": {},
     "title": ""
    }
   },
   "outputs": [
    {
     "output_type": "stream",
     "name": "stdout",
     "output_type": "stream",
     "text": [
      "/mnt/mf-production has been unmounted.\nUnmounted successfully\n"
     ]
    }
   ],
   "source": [
    "try:\n",
    "    dbutils.fs.unmount(\"/mnt/mf-production\")\n",
    "except Exception as e:\n",
    "    print(\"Failed to unmount the mount point: \", e)\n",
    "    \n",
    "print(\"Unmounted successfully\")"
   ]
  }
 ],
 "metadata": {
  "application/vnd.databricks.v1+notebook": {
   "computePreferences": null,
   "dashboards": [],
   "environmentMetadata": {
    "base_environment": "",
    "environment_version": "3"
   },
   "inputWidgetPreferences": null,
   "language": "python",
   "notebookMetadata": {
    "pythonIndentUnit": 4
   },
   "notebookName": "DailyExtracts",
   "widgets": {}
  },
  "language_info": {
   "name": "python"
  }
 },
 "nbformat": 4,
 "nbformat_minor": 0
}