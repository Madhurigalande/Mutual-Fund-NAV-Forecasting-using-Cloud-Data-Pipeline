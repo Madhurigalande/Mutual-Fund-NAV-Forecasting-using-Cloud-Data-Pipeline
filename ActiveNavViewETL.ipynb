{
 "cells": [
  {
   "cell_type": "code",
   "execution_count": 0,
   "metadata": {
    "application/vnd.databricks.v1+cell": {
     "cellMetadata": {
      "byteLimit": 2048000,
      "rowLimit": 10000
     },
     "inputWidgets": {},
     "nuid": "76ab1db9-dca6-43c2-a84e-ff639fd7f269",
     "showTitle": false,
     "tableResultSettingsMap": {},
     "title": ""
    }
   },
   "outputs": [],
   "source": [
    "try:\n",
    "    connection_properties = {\n",
    "        \"user\": 'cdac',\n",
    "        \"password\": dbutils.secrets.get(scope=\"mutual-fund-keyvalut-secrets\", key=\"storage-database-secret\"),\n",
    "        \"driver\": \"com.microsoft.sqlserver.jdbc.SQLServerDriver\"\n",
    "    }\n",
    "\n",
    "    ActiveMutualFundsTable = spark.read \\\n",
    "        .jdbc(url=dbutils.secrets.get(scope=\"mutual-fund-keyvalut-secrets\", key=\"storage-database-jdbc\"), table='dbo.ActiveMutualFundsNavs', properties=connection_properties)\n",
    "\n",
    "except Exception as e:\n",
    "    print(f\"Error writing to SQL Server: {str(e)}\")"
   ]
  },
  {
   "cell_type": "code",
   "execution_count": 0,
   "metadata": {
    "application/vnd.databricks.v1+cell": {
     "cellMetadata": {
      "byteLimit": 2048000,
      "rowLimit": 10000
     },
     "inputWidgets": {},
     "nuid": "7d3cd591-2668-4ab7-ad3d-059193abcb8f",
     "showTitle": false,
     "tableResultSettingsMap": {},
     "title": ""
    }
   },
   "outputs": [],
   "source": [
    "try:\n",
    "    connection_properties = {\n",
    "        \"user\": 'cdac',\n",
    "        \"password\": dbutils.secrets.get(scope=\"mutual-fund-keyvalut-secrets\", key=\"storage-database-secret\"),\n",
    "        \"driver\": \"com.microsoft.sqlserver.jdbc.SQLServerDriver\"\n",
    "    }\n",
    "\n",
    "    ActiveMutualFundsTable.write \\\n",
    "        .mode(\"overwrite\") \\\n",
    "        .jdbc(\n",
    "            url=dbutils.secrets.get(scope=\"mutual-fund-keyvalut-secrets\", key=\"storage-database-jdbc\"),\n",
    "            table=\"Prod.ActiveMutualFundsNavs\",\n",
    "            properties=connection_properties\n",
    "        )\n",
    "\n",
    "except Exception as e:\n",
    "    print(f\"Error writing to SQL Server: {str(e)}\")"
   ]
  }
 ],
 "metadata": {
  "application/vnd.databricks.v1+notebook": {
   "computePreferences": null,
   "dashboards": [],
   "environmentMetadata": {
    "base_environment": "",
    "environment_version": "3"
   },
   "inputWidgetPreferences": null,
   "language": "python",
   "notebookMetadata": {
    "pythonIndentUnit": 4
   },
   "notebookName": "ActiveNavViewETL",
   "widgets": {}
  },
  "language_info": {
   "name": "python"
  }
 },
 "nbformat": 4,
 "nbformat_minor": 0
}