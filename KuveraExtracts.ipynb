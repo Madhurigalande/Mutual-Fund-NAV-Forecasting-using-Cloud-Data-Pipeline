{
 "cells": [
  {
   "cell_type": "code",
   "execution_count": 0,
   "metadata": {
    "application/vnd.databricks.v1+cell": {
     "cellMetadata": {
      "byteLimit": 2048000,
      "rowLimit": 10000
     },
     "inputWidgets": {},
     "nuid": "cb2c94da-5c63-4b6f-8a82-30b45e262713",
     "showTitle": false,
     "tableResultSettingsMap": {},
     "title": ""
    }
   },
   "outputs": [],
   "source": [
    "try:\n",
    "    dbutils.fs.unmount(\"/mnt/mf-production/kuvera/\")\n",
    "except Exception as e:\n",
    "    pass  "
   ]
  },
  {
   "cell_type": "code",
   "execution_count": 0,
   "metadata": {
    "application/vnd.databricks.v1+cell": {
     "cellMetadata": {
      "byteLimit": 2048000,
      "rowLimit": 10000
     },
     "inputWidgets": {},
     "nuid": "94bc5387-7a00-4c1b-91fb-c9048d072db9",
     "showTitle": false,
     "tableResultSettingsMap": {},
     "title": ""
    }
   },
   "outputs": [],
   "source": [
    "dbutils.fs.mount(\n",
    "    source = \"wasbs://mf-production@mutualfundstoragecdac.blob.core.windows.net\",\n",
    "    mount_point = \"/mnt/mf-production/kuvera/\",\n",
    "    extra_configs={\n",
    "        \"fs.azure.sas.mf-production.mutualfundstoragecdac.blob.core.windows.net\": dbutils.secrets.get(scope=\"mutual-fund-keyvalut-secrets\", key=\"storage-sas-prod-sas\")\n",
    "    })\n",
    "\n",
    "kuvera_path = \"/mnt/mf-production/kuvera/kuveraextracts/\""
   ]
  },
  {
   "cell_type": "code",
   "execution_count": 0,
   "metadata": {
    "application/vnd.databricks.v1+cell": {
     "cellMetadata": {
      "byteLimit": 2048000,
      "rowLimit": 10000
     },
     "inputWidgets": {},
     "nuid": "a4771582-4395-4874-be7d-25e617d62a82",
     "showTitle": false,
     "tableResultSettingsMap": {},
     "title": ""
    }
   },
   "outputs": [],
   "source": [
    "from datetime import datetime\n",
    "import pytz\n",
    "import pandas as pd\n",
    "import pyarrow.parquet as pq\n",
    "from pyspark.sql.functions import col, concat_ws, to_json\n",
    "\n",
    "MAX_COMPARISON_COUNT = 5\n",
    "\n",
    "today = datetime.now(pytz.timezone(\"Asia/Kolkata\"))\n",
    "today_path = f\"{kuvera_path}{today.year:04d}/{today.month:02d}/{today.day:02d}\"\n",
    "\n",
    "try:\n",
    "    files = dbutils.fs.ls(today_path)\n",
    "    if not files:\n",
    "        raise FileNotFoundError(f\"No files found at {today_path}\")\n",
    "except Exception as e:\n",
    "    print(f\"Path not found or inaccessible: {e}\")\n",
    "    files = []\n",
    "\n",
    "pandas_frames = []\n",
    "\n",
    "if files:\n",
    "    for file in files:\n",
    "        try:\n",
    "            local_path = file.path.replace(\"dbfs:/\", \"/dbfs/\")\n",
    "            table = pq.read_table(local_path)\n",
    "            pandas_frames.append(table.to_pandas())\n",
    "        except Exception as e:\n",
    "            print(f\"Failed to read {file.path}: {e}\")\n",
    "\n",
    "    if not pandas_frames:\n",
    "        raise ValueError(\"No valid data loaded from today's files.\")\n",
    "\n",
    "    full_df = pd.concat(pandas_frames, ignore_index=True)\n",
    "\n",
    "    for col_name in full_df.select_dtypes(include=[\"datetime64[ns]\"]).columns:\n",
    "        full_df[col_name] = full_df[col_name].astype(\"datetime64[ms]\")\n",
    "\n",
    "    spark_df = spark.createDataFrame(full_df)\n",
    "\n",
    "    spark_df = (\n",
    "        spark_df\n",
    "        .withColumn(\"tags\", concat_ws(\",\", col(\"tags\")))\n",
    "        .withColumn(\"nav\", to_json(col(\"nav\")))\n",
    "        .withColumn(\"last_nav\", to_json(col(\"last_nav\")))\n",
    "    )\n",
    "\n",
    "    comparison_cols = {}\n",
    "\n",
    "    for i in range(MAX_COMPARISON_COUNT):\n",
    "        prefix = f\"cmp_{i+1}\"\n",
    "        comparison_cols.update({\n",
    "            f\"{prefix}_1y\": col(\"comparison\").getItem(i).getField(\"1y\"),\n",
    "            f\"{prefix}_3y\": col(\"comparison\").getItem(i).getField(\"3y\"),\n",
    "            f\"{prefix}_5y\": col(\"comparison\").getItem(i).getField(\"5y\"),\n",
    "            f\"{prefix}_aum\": col(\"comparison\").getItem(i).getField(\"aum\"),\n",
    "            f\"{prefix}_code\": col(\"comparison\").getItem(i).getField(\"code\"),\n",
    "            f\"{prefix}_expense_ratio\": col(\"comparison\").getItem(i).getField(\"expense_ratio\"),\n",
    "            f\"{prefix}_inception\": col(\"comparison\").getItem(i).getField(\"inception\"),\n",
    "            f\"{prefix}_info_ratio\": col(\"comparison\").getItem(i).getField(\"info_ratio\"),\n",
    "            f\"{prefix}_name\": col(\"comparison\").getItem(i).getField(\"name\"),\n",
    "            f\"{prefix}_short_name\": col(\"comparison\").getItem(i).getField(\"short_name\"),\n",
    "            f\"{prefix}_slug\": col(\"comparison\").getItem(i).getField(\"slug\"),\n",
    "            f\"{prefix}_volatility\": col(\"comparison\").getItem(i).getField(\"volatility\"),\n",
    "        })\n",
    "\n",
    "    spark_df = spark_df.withColumns(comparison_cols)\n",
    "\n",
    "    spark_df = spark_df.drop(\"comparison\")\n",
    "\n"
   ]
  },
  {
   "cell_type": "code",
   "execution_count": 0,
   "metadata": {
    "application/vnd.databricks.v1+cell": {
     "cellMetadata": {
      "byteLimit": 2048000,
      "rowLimit": 10000
     },
     "inputWidgets": {},
     "nuid": "f4fc04dd-db56-478c-a731-46ee2ea17131",
     "showTitle": false,
     "tableResultSettingsMap": {},
     "title": ""
    }
   },
   "outputs": [],
   "source": [
    "try:\n",
    "    connection_properties = {\n",
    "        \"user\": 'cdac',\n",
    "        \"password\": dbutils.secrets.get(scope=\"mutual-fund-keyvalut-secrets\", key=\"storage-database-secret\"),\n",
    "        \"driver\": \"com.microsoft.sqlserver.jdbc.SQLServerDriver\"\n",
    "    }\n",
    "\n",
    "    spark_df.write \\\n",
    "        .mode(\"overwrite\") \\\n",
    "        .jdbc(url=dbutils.secrets.get(scope=\"mutual-fund-keyvalut-secrets\", key=\"storage-database-jdbc\"), table='KuveraPortfolioExtracts', properties=connection_properties)\n",
    "\n",
    "except Exception as e:\n",
    "    print(f\"Error writing to SQL Server: {str(e)}\")\n",
    "\n",
    "finally:\n",
    "    dbutils.fs.unmount(\"/mnt/mf-production/kuvera/\")"
   ]
  }
 ],
 "metadata": {
  "application/vnd.databricks.v1+notebook": {
   "computePreferences": null,
   "dashboards": [],
   "environmentMetadata": {
    "base_environment": "",
    "environment_version": "3"
   },
   "inputWidgetPreferences": null,
   "language": "python",
   "notebookMetadata": {
    "pythonIndentUnit": 4
   },
   "notebookName": "KuveraExtracts",
   "widgets": {}
  },
  "language_info": {
   "name": "python"
  }
 },
 "nbformat": 4,
 "nbformat_minor": 0
}