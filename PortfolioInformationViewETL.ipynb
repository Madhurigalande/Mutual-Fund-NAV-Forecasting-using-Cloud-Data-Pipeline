{
 "cells": [
  {
   "cell_type": "code",
   "execution_count": 0,
   "metadata": {
    "application/vnd.databricks.v1+cell": {
     "cellMetadata": {
      "byteLimit": 2048000,
      "rowLimit": 10000
     },
     "inputWidgets": {},
     "nuid": "05820867-f450-4e3a-a3d5-25cf934ebcbd",
     "showTitle": false,
     "tableResultSettingsMap": {},
     "title": ""
    }
   },
   "outputs": [],
   "source": [
    "from datetime import datetime\n",
    "import pytz\n",
    "import pyarrow.parquet as pq\n",
    "import pandas as pd\n",
    "\n",
    "from pyspark.sql.functions import col\n",
    "from pyspark.sql.types import DecimalType\n",
    "from pyspark.sql.window import Window\n",
    "from pyspark.sql.functions import row_number, col, to_date, current_timestamp, date_format"
   ]
  },
  {
   "cell_type": "code",
   "execution_count": 0,
   "metadata": {
    "application/vnd.databricks.v1+cell": {
     "cellMetadata": {
      "byteLimit": 2048000,
      "rowLimit": 10000
     },
     "inputWidgets": {},
     "nuid": "b41d53a1-62e0-43c5-a642-39afee93d555",
     "showTitle": false,
     "tableResultSettingsMap": {},
     "title": ""
    }
   },
   "outputs": [],
   "source": [
    "try:\n",
    "    connection_properties = {\n",
    "        \"user\": 'cdac',\n",
    "        \"password\": dbutils.secrets.get(scope=\"mutual-fund-keyvalut-secrets\", key=\"storage-database-secret\"),\n",
    "        \"driver\": \"com.microsoft.sqlserver.jdbc.SQLServerDriver\"\n",
    "    }\n",
    "\n",
    "    ActiveMutualFundsTable = spark.read \\\n",
    "        .jdbc(url=dbutils.secrets.get(scope=\"mutual-fund-keyvalut-secrets\", key=\"storage-database-jdbc\"), table='dbo.ActiveMutualFundsNavs', properties=connection_properties)\n",
    "\n",
    "except Exception as e:\n",
    "    print(f\"Error Loading from SQL Server: {str(e)}\")"
   ]
  },
  {
   "cell_type": "code",
   "execution_count": 0,
   "metadata": {
    "application/vnd.databricks.v1+cell": {
     "cellMetadata": {
      "byteLimit": 2048000,
      "rowLimit": 10000
     },
     "inputWidgets": {},
     "nuid": "6ce7cb44-8d5d-465e-83cb-4d807e764c3e",
     "showTitle": false,
     "tableResultSettingsMap": {},
     "title": ""
    }
   },
   "outputs": [],
   "source": [
    "try:\n",
    "    connection_properties = {\n",
    "        \"user\": 'cdac',\n",
    "        \"password\": dbutils.secrets.get(scope=\"mutual-fund-keyvalut-secrets\", key=\"storage-database-secret\"),\n",
    "        \"driver\": \"com.microsoft.sqlserver.jdbc.SQLServerDriver\"\n",
    "    }\n",
    "\n",
    "    KuveraPortfolioExtractsTable = spark.read \\\n",
    "        .jdbc(url=dbutils.secrets.get(scope=\"mutual-fund-keyvalut-secrets\", key=\"storage-database-jdbc\"), table='dbo.KuveraPortfolioExtracts', properties=connection_properties)\n",
    "        \n",
    "    KuveraPortfolioExtractsTable = KuveraPortfolioExtractsTable.drop('nav')\n",
    "    \n",
    "except Exception as e:\n",
    "    print(f\"Error writing to SQL Server: {str(e)}\")"
   ]
  },
  {
   "cell_type": "code",
   "execution_count": 0,
   "metadata": {
    "application/vnd.databricks.v1+cell": {
     "cellMetadata": {
      "byteLimit": 2048000,
      "rowLimit": 10000
     },
     "inputWidgets": {},
     "nuid": "b2189407-7024-4896-a18a-146328c957c9",
     "showTitle": false,
     "tableResultSettingsMap": {},
     "title": ""
    }
   },
   "outputs": [],
   "source": [
    "window_spec = Window.partitionBy(\"scheme_code\").orderBy(col(\"date\").desc())\n",
    "\n",
    "ActiveMutualFundsTableLatest = (\n",
    "    ActiveMutualFundsTable\n",
    "    .withColumn(\"row_num\", row_number().over(window_spec))\n",
    "    .filter(col(\"row_num\") == 1)\n",
    "    .drop(\"row_num\")\n",
    ")\n",
    "\n",
    "PortolioInformationWithLatestNav = (\n",
    "    KuveraPortfolioExtractsTable\n",
    "    .join(ActiveMutualFundsTableLatest, on=\"scheme_code\", how=\"left\")\n",
    ")\n",
    "\n",
    "if \"insert_date\" in PortolioInformationWithLatestNav.columns:\n",
    "    PortolioInformationWithLatestNav = PortolioInformationWithLatestNav.drop(\"insert_date\")\n",
    "\n",
    "PortolioInformationWithLatestNav = PortolioInformationWithLatestNav.withColumn(\"insert_date\", date_format(current_timestamp(), \"yyyy-MM-dd HH:mm:ss\"))"
   ]
  },
  {
   "cell_type": "code",
   "execution_count": 0,
   "metadata": {
    "application/vnd.databricks.v1+cell": {
     "cellMetadata": {
      "byteLimit": 2048000,
      "rowLimit": 10000
     },
     "inputWidgets": {},
     "nuid": "3320b668-1939-4b5f-a5c8-35e2b606a1cd",
     "showTitle": false,
     "tableResultSettingsMap": {},
     "title": ""
    }
   },
   "outputs": [],
   "source": [
    "try:\n",
    "    connection_properties = {\n",
    "        \"user\": 'cdac',\n",
    "        \"password\": dbutils.secrets.get(scope=\"mutual-fund-keyvalut-secrets\", key=\"storage-database-secret\"),\n",
    "        \"driver\": \"com.microsoft.sqlserver.jdbc.SQLServerDriver\"\n",
    "    }\n",
    "\n",
    "    PortolioInformationWithLatestNav.write \\\n",
    "        .mode(\"overwrite\") \\\n",
    "        .jdbc(\n",
    "            url=dbutils.secrets.get(scope=\"mutual-fund-keyvalut-secrets\", key=\"storage-database-jdbc\"),\n",
    "            table=\"Prod.KuveraPortfolioExtractsInformation\",\n",
    "            properties=connection_properties\n",
    "        )\n",
    "\n",
    "except Exception as e:\n",
    "    print(f\"Error writing to SQL Server: {str(e)}\")"
   ]
  }
 ],
 "metadata": {
  "application/vnd.databricks.v1+notebook": {
   "computePreferences": null,
   "dashboards": [],
   "environmentMetadata": {
    "base_environment": "",
    "environment_version": "3"
   },
   "inputWidgetPreferences": null,
   "language": "python",
   "notebookMetadata": {
    "pythonIndentUnit": 4
   },
   "notebookName": "PortfolioInformationViewETL",
   "widgets": {}
  },
  "language_info": {
   "name": "python"
  }
 },
 "nbformat": 4,
 "nbformat_minor": 0
}